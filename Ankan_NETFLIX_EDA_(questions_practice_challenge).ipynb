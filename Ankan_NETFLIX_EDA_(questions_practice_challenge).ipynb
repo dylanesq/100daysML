{
  "metadata": {
    "kernelspec": {
      "language": "python",
      "display_name": "Python 3",
      "name": "python3"
    },
    "language_info": {
      "pygments_lexer": "ipython3",
      "nbconvert_exporter": "python",
      "version": "3.6.4",
      "file_extension": ".py",
      "codemirror_mode": {
        "name": "ipython",
        "version": 3
      },
      "name": "python",
      "mimetype": "text/x-python"
    },
    "colab": {
      "name": "NETFLIX EDA (questions practice/challenge)",
      "provenance": [],
      "include_colab_link": true
    }
  },
  "nbformat_minor": 0,
  "nbformat": 4,
  "cells": [
    {
      "cell_type": "markdown",
      "metadata": {
        "id": "view-in-github",
        "colab_type": "text"
      },
      "source": [
        "<a href=\"https://colab.research.google.com/github/dylanesq/100daysML/blob/main/Ankan_NETFLIX_EDA_(questions_practice_challenge).ipynb\" target=\"_parent\"><img src=\"https://colab.research.google.com/assets/colab-badge.svg\" alt=\"Open In Colab\"/></a>"
      ]
    },
    {
      "source": [
        "# IMPORTANT: RUN THIS CELL IN ORDER TO IMPORT YOUR KAGGLE DATA SOURCES,\n",
        "# THEN FEEL FREE TO DELETE THIS CELL.\n",
        "# NOTE: THIS NOTEBOOK ENVIRONMENT DIFFERS FROM KAGGLE'S PYTHON\n",
        "# ENVIRONMENT SO THERE MAY BE MISSING LIBRARIES USED BY YOUR\n",
        "# NOTEBOOK.\n",
        "import kagglehub\n",
        "shivamb_netflix_shows_path = kagglehub.dataset_download('shivamb/netflix-shows')\n",
        "\n",
        "print('Data source import complete.')\n"
      ],
      "metadata": {
        "id": "SdrclgBDcAQg"
      },
      "cell_type": "code",
      "outputs": [],
      "execution_count": null
    },
    {
      "cell_type": "code",
      "source": [
        "# This Python 3 environment comes with many helpful analytics libraries installed\n",
        "# It is defined by the kaggle/python Docker image: https://github.com/kaggle/docker-python\n",
        "# For example, here's several helpful packages to load\n",
        "\n",
        "import numpy as np # linear algebra\n",
        "import pandas as pd # data processing, CSV file I/O (e.g. pd.read_csv)\n",
        "\n",
        "# Input data files are available in the read-only \"../input/\" directory\n",
        "# For example, running this (by clicking run or pressing Shift+Enter) will list all files under the input directory\n",
        "\n",
        "import os\n",
        "for dirname, _, filenames in os.walk('/kaggle/input'):\n",
        "    for filename in filenames:\n",
        "        print(os.path.join(dirname, filename))\n",
        "\n",
        "# You can write up to 20GB to the current directory (/kaggle/working/) that gets preserved as output when you create a version using \"Save & Run All\"\n",
        "# You can also write temporary files to /kaggle/temp/, but they won't be saved outside of the current session"
      ],
      "metadata": {
        "_uuid": "8f2839f25d086af736a60e9eeb907d3b93b6e0e5",
        "_cell_guid": "b1076dfc-b9ad-4769-8c92-a6c4dae69d19",
        "execution": {
          "iopub.status.busy": "2022-07-14T12:38:02.647173Z",
          "iopub.execute_input": "2022-07-14T12:38:02.647658Z",
          "iopub.status.idle": "2022-07-14T12:38:02.694233Z",
          "shell.execute_reply.started": "2022-07-14T12:38:02.647544Z",
          "shell.execute_reply": "2022-07-14T12:38:02.693274Z"
        },
        "trusted": true,
        "id": "VM7vz7u8cAQi"
      },
      "execution_count": null,
      "outputs": []
    },
    {
      "cell_type": "markdown",
      "source": [
        "**ABOUT NOTEBOOK**\n",
        "* This Notebook is for EDA practice on given NETFLIX Dataset\n",
        "* It has some  good set of questions for Data analysis\n",
        "* It contains all questions necessary for data analysis\n",
        "* This NoteBook can be considered as a **Good practice/Challenge for Beginners and Intermediate learners**\n",
        "* Some questions are provided below , this notebook also consists of some multiple solutions to the questions\n",
        "* I invite you all to kindly solve and donate more questions or other answers for these questions\n",
        "\n",
        "**kindly upvote :)**"
      ],
      "metadata": {
        "id": "VAf9Rb4VcAQj"
      }
    },
    {
      "cell_type": "markdown",
      "source": [
        "**QUESTIONS**\n",
        " * Task.1) Is there any Duplicate Record in this dataset ? If yes, then remove the duplicate records.\n",
        " * Task. 2) Is there any Null Value present in any column ? Show with Heat-map.\n",
        "* Q. 1) For 'House of Cards', what is the Show Id and Who is the Director of this show ?\n",
        "* Q. 2) In which year the highest number of the TV Shows & Movies were released ? Show with Bar Graph.\n",
        "* Q. 3) How many Movies & TV Shows are in the dataset ? Show with Bar Graph.\n",
        "* Q. 4) Show all the Movies that were released in year 2000.\n",
        "* Q. 5) Show only the Titles of all TV Shows that were released in India only.\n",
        "* Q. 6) Show Top 10 Directors, who gave the highest number of TV Shows & Movies to Netflix ?\n",
        "* Q. 7) Show all the Records, where \"Category is Movie and Type is Comedies\" or \"Country is United Kingdom\".\n",
        "* Q. 8) In how many movies/shows, Tom Cruise was cast ?\n",
        "* Q. 9) What are the different Ratings defined by Netflix ?\n",
        "   * Q. 9.1) How many Movies got the 'TV-14' rating, in Canada ?\n",
        "   * Q. 9.2) How many TV Shows got the 'R' rating, after year 2018 ?\n",
        "* Q. 10) What is the maximum duration of a Movie/Show on Netflix ?\n",
        "* Q. 11) Which individual country has the Highest No. of TV Shows ?\n",
        "* Q. 12) How can we sort the dataset by Year ?\n",
        "* Q. 13) Find all the instances where: Category is 'Movie' and Type is 'Dramas' or Category is 'TV Show' & Type is 'Kids' TV'.** Task. 1) Is there any Duplicate Record in this dataset ? If yes, then remove the duplicate records.\"Country is United Kingdom\".\n"
      ],
      "metadata": {
        "id": "3IRKdjnLcAQk"
      }
    },
    {
      "cell_type": "code",
      "source": [
        "\n"
      ],
      "metadata": {
        "id": "_2BXjwwjcAQl"
      },
      "execution_count": null,
      "outputs": []
    },
    {
      "cell_type": "code",
      "source": [
        "#IMPORTING THE LIBRARY\n",
        "import pandas as pd\n",
        "import numpy as np\n",
        "import seaborn as sns\n",
        "import matplotlib.pyplot as plt"
      ],
      "metadata": {
        "execution": {
          "iopub.status.busy": "2022-07-14T12:38:02.695921Z",
          "iopub.execute_input": "2022-07-14T12:38:02.696494Z",
          "iopub.status.idle": "2022-07-14T12:38:03.939463Z",
          "shell.execute_reply.started": "2022-07-14T12:38:02.696458Z",
          "shell.execute_reply": "2022-07-14T12:38:03.938055Z"
        },
        "trusted": true,
        "id": "cDtpO3VtcAQl"
      },
      "execution_count": null,
      "outputs": []
    },
    {
      "cell_type": "code",
      "source": [
        "df = pd.read_csv('/kaggle/input/netflix-shows/netflix_titles.csv')\n",
        "df.head()"
      ],
      "metadata": {
        "execution": {
          "iopub.status.busy": "2022-07-14T12:38:03.940866Z",
          "iopub.execute_input": "2022-07-14T12:38:03.941217Z",
          "iopub.status.idle": "2022-07-14T12:38:04.108526Z",
          "shell.execute_reply.started": "2022-07-14T12:38:03.941185Z",
          "shell.execute_reply": "2022-07-14T12:38:04.107144Z"
        },
        "trusted": true,
        "id": "JCYhN_VBcAQm"
      },
      "execution_count": null,
      "outputs": []
    },
    {
      "cell_type": "markdown",
      "source": [],
      "metadata": {
        "id": "PLSK1cBHcAQn"
      }
    },
    {
      "cell_type": "code",
      "source": [
        "df.columns"
      ],
      "metadata": {
        "execution": {
          "iopub.status.busy": "2022-07-14T12:38:04.110724Z",
          "iopub.execute_input": "2022-07-14T12:38:04.111129Z",
          "iopub.status.idle": "2022-07-14T12:38:04.11975Z",
          "shell.execute_reply.started": "2022-07-14T12:38:04.111093Z",
          "shell.execute_reply": "2022-07-14T12:38:04.118667Z"
        },
        "trusted": true,
        "id": "z0PEqUewcAQn"
      },
      "execution_count": null,
      "outputs": []
    },
    {
      "cell_type": "code",
      "source": [
        "df.shape"
      ],
      "metadata": {
        "execution": {
          "iopub.status.busy": "2022-07-14T12:38:04.120942Z",
          "iopub.execute_input": "2022-07-14T12:38:04.121869Z",
          "iopub.status.idle": "2022-07-14T12:38:04.136243Z",
          "shell.execute_reply.started": "2022-07-14T12:38:04.121835Z",
          "shell.execute_reply": "2022-07-14T12:38:04.134991Z"
        },
        "trusted": true,
        "id": "SCA2EmmAcAQn"
      },
      "execution_count": null,
      "outputs": []
    },
    {
      "cell_type": "code",
      "source": [
        "df.info()"
      ],
      "metadata": {
        "execution": {
          "iopub.status.busy": "2022-07-14T12:38:04.137757Z",
          "iopub.execute_input": "2022-07-14T12:38:04.138458Z",
          "iopub.status.idle": "2022-07-14T12:38:04.175657Z",
          "shell.execute_reply.started": "2022-07-14T12:38:04.138414Z",
          "shell.execute_reply": "2022-07-14T12:38:04.174695Z"
        },
        "trusted": true,
        "id": "JYTsIAVycAQo"
      },
      "execution_count": null,
      "outputs": []
    },
    {
      "cell_type": "code",
      "source": [
        "df.size"
      ],
      "metadata": {
        "execution": {
          "iopub.status.busy": "2022-07-14T12:38:04.176863Z",
          "iopub.execute_input": "2022-07-14T12:38:04.177355Z",
          "iopub.status.idle": "2022-07-14T12:38:04.182707Z",
          "shell.execute_reply.started": "2022-07-14T12:38:04.177324Z",
          "shell.execute_reply": "2022-07-14T12:38:04.181885Z"
        },
        "trusted": true,
        "id": "bBGOuu_ScAQo"
      },
      "execution_count": null,
      "outputs": []
    },
    {
      "cell_type": "code",
      "source": [
        "df.dtypes"
      ],
      "metadata": {
        "execution": {
          "iopub.status.busy": "2022-07-14T12:38:04.183873Z",
          "iopub.execute_input": "2022-07-14T12:38:04.184339Z",
          "iopub.status.idle": "2022-07-14T12:38:04.199736Z",
          "shell.execute_reply.started": "2022-07-14T12:38:04.184311Z",
          "shell.execute_reply": "2022-07-14T12:38:04.19876Z"
        },
        "trusted": true,
        "id": "Ne8MQU1rcAQo"
      },
      "execution_count": null,
      "outputs": []
    },
    {
      "cell_type": "markdown",
      "source": [],
      "metadata": {
        "id": "A8wTRKFccAQo"
      }
    },
    {
      "cell_type": "markdown",
      "source": [
        "**1) Is there any Duplicate Record in this dataset ? If yes, then remove the duplicate records.**"
      ],
      "metadata": {
        "id": "qO_2b6Q_cAQo"
      }
    },
    {
      "cell_type": "code",
      "source": [
        "df[df.duplicated()]"
      ],
      "metadata": {
        "execution": {
          "iopub.status.busy": "2022-07-14T12:38:04.20298Z",
          "iopub.execute_input": "2022-07-14T12:38:04.203354Z",
          "iopub.status.idle": "2022-07-14T12:38:04.240437Z",
          "shell.execute_reply.started": "2022-07-14T12:38:04.203321Z",
          "shell.execute_reply": "2022-07-14T12:38:04.239555Z"
        },
        "trusted": true,
        "id": "WlEVAB7BcAQp"
      },
      "execution_count": null,
      "outputs": []
    },
    {
      "cell_type": "code",
      "source": [
        "df.drop_duplicates(inplace = True)"
      ],
      "metadata": {
        "execution": {
          "iopub.status.busy": "2022-07-14T12:38:04.241738Z",
          "iopub.execute_input": "2022-07-14T12:38:04.242234Z",
          "iopub.status.idle": "2022-07-14T12:38:04.266727Z",
          "shell.execute_reply.started": "2022-07-14T12:38:04.242202Z",
          "shell.execute_reply": "2022-07-14T12:38:04.265695Z"
        },
        "trusted": true,
        "id": "eSAy6UrTcAQp"
      },
      "execution_count": null,
      "outputs": []
    },
    {
      "cell_type": "code",
      "source": [
        "df.shape"
      ],
      "metadata": {
        "execution": {
          "iopub.status.busy": "2022-07-14T12:38:04.267998Z",
          "iopub.execute_input": "2022-07-14T12:38:04.268531Z",
          "iopub.status.idle": "2022-07-14T12:38:04.274116Z",
          "shell.execute_reply.started": "2022-07-14T12:38:04.268498Z",
          "shell.execute_reply": "2022-07-14T12:38:04.273195Z"
        },
        "trusted": true,
        "id": "vzpqI40lcAQp"
      },
      "execution_count": null,
      "outputs": []
    },
    {
      "cell_type": "markdown",
      "source": [
        "**Task. 2) Is there any Null Value present in any column ? Show with Heat-map.**"
      ],
      "metadata": {
        "id": "44Sj63nQcAQp"
      }
    },
    {
      "cell_type": "code",
      "source": [
        "df.isnull().sum()"
      ],
      "metadata": {
        "execution": {
          "iopub.status.busy": "2022-07-14T12:38:04.275248Z",
          "iopub.execute_input": "2022-07-14T12:38:04.276182Z",
          "iopub.status.idle": "2022-07-14T12:38:04.300257Z",
          "shell.execute_reply.started": "2022-07-14T12:38:04.276141Z",
          "shell.execute_reply": "2022-07-14T12:38:04.299214Z"
        },
        "trusted": true,
        "id": "AIVni9_hcAQp"
      },
      "execution_count": null,
      "outputs": []
    },
    {
      "cell_type": "code",
      "source": [
        "df.isnull()"
      ],
      "metadata": {
        "execution": {
          "iopub.status.busy": "2022-07-14T12:38:04.301783Z",
          "iopub.execute_input": "2022-07-14T12:38:04.302152Z",
          "iopub.status.idle": "2022-07-14T12:38:04.341303Z",
          "shell.execute_reply.started": "2022-07-14T12:38:04.30212Z",
          "shell.execute_reply": "2022-07-14T12:38:04.340431Z"
        },
        "trusted": true,
        "id": "5kpbw3bIcAQp"
      },
      "execution_count": null,
      "outputs": []
    },
    {
      "cell_type": "code",
      "source": [
        "\n",
        "sns.heatmap(df.isnull())"
      ],
      "metadata": {
        "execution": {
          "iopub.status.busy": "2022-07-14T12:38:04.342387Z",
          "iopub.execute_input": "2022-07-14T12:38:04.343311Z",
          "iopub.status.idle": "2022-07-14T12:38:04.878544Z",
          "shell.execute_reply.started": "2022-07-14T12:38:04.343275Z",
          "shell.execute_reply": "2022-07-14T12:38:04.877154Z"
        },
        "trusted": true,
        "id": "B_X8z3f2cAQp"
      },
      "execution_count": null,
      "outputs": []
    },
    {
      "cell_type": "markdown",
      "source": [
        "**Q. 1) For 'House of Cards', what is the Show Id and Who is the Director of this show ?**"
      ],
      "metadata": {
        "id": "utPAFV78cAQp"
      }
    },
    {
      "cell_type": "code",
      "source": [
        "df.head()"
      ],
      "metadata": {
        "execution": {
          "iopub.status.busy": "2022-07-14T12:38:04.88048Z",
          "iopub.execute_input": "2022-07-14T12:38:04.880972Z",
          "iopub.status.idle": "2022-07-14T12:38:04.90142Z",
          "shell.execute_reply.started": "2022-07-14T12:38:04.880927Z",
          "shell.execute_reply": "2022-07-14T12:38:04.900184Z"
        },
        "trusted": true,
        "id": "YbGQLpWZcAQp"
      },
      "execution_count": null,
      "outputs": []
    },
    {
      "cell_type": "code",
      "source": [
        "df[df['title'].isin(['House of Cards'])]"
      ],
      "metadata": {
        "execution": {
          "iopub.status.busy": "2022-07-14T12:38:04.902848Z",
          "iopub.execute_input": "2022-07-14T12:38:04.903367Z",
          "iopub.status.idle": "2022-07-14T12:38:04.927053Z",
          "shell.execute_reply.started": "2022-07-14T12:38:04.903321Z",
          "shell.execute_reply": "2022-07-14T12:38:04.925509Z"
        },
        "trusted": true,
        "id": "pT7C5iPgcAQq"
      },
      "execution_count": null,
      "outputs": []
    },
    {
      "cell_type": "code",
      "source": [
        "df[df['title'].str.contains('House of Cards')]"
      ],
      "metadata": {
        "execution": {
          "iopub.status.busy": "2022-07-14T12:38:04.928173Z",
          "iopub.execute_input": "2022-07-14T12:38:04.928649Z",
          "iopub.status.idle": "2022-07-14T12:38:04.950291Z",
          "shell.execute_reply.started": "2022-07-14T12:38:04.92858Z",
          "shell.execute_reply": "2022-07-14T12:38:04.949113Z"
        },
        "trusted": true,
        "id": "3EIvfLrCcAQq"
      },
      "execution_count": null,
      "outputs": []
    },
    {
      "cell_type": "markdown",
      "source": [
        "**2) In which year the highest number of the TV Shows & Movies were released ? Show with Bar Graph.**"
      ],
      "metadata": {
        "id": "n0TygfuocAQq"
      }
    },
    {
      "cell_type": "code",
      "source": [
        "df.info()"
      ],
      "metadata": {
        "execution": {
          "iopub.status.busy": "2022-07-14T12:38:04.951514Z",
          "iopub.execute_input": "2022-07-14T12:38:04.953439Z",
          "iopub.status.idle": "2022-07-14T12:38:04.977136Z",
          "shell.execute_reply.started": "2022-07-14T12:38:04.953398Z",
          "shell.execute_reply": "2022-07-14T12:38:04.97577Z"
        },
        "trusted": true,
        "id": "kFbVZ9eDcAQq"
      },
      "execution_count": null,
      "outputs": []
    },
    {
      "cell_type": "code",
      "source": [
        "\n",
        "df.release_year.value_counts().plot(kind ='bar')"
      ],
      "metadata": {
        "execution": {
          "iopub.status.busy": "2022-07-14T12:38:04.978411Z",
          "iopub.execute_input": "2022-07-14T12:38:04.978899Z",
          "iopub.status.idle": "2022-07-14T12:38:05.803051Z",
          "shell.execute_reply.started": "2022-07-14T12:38:04.978854Z",
          "shell.execute_reply": "2022-07-14T12:38:05.80178Z"
        },
        "trusted": true,
        "id": "LQgDatEHcAQq"
      },
      "execution_count": null,
      "outputs": []
    },
    {
      "cell_type": "code",
      "source": [
        "plt.figure(figsize = (20, 5))\n",
        "sns.barplot(df.release_year  ,df.release_year.value_counts() )"
      ],
      "metadata": {
        "execution": {
          "iopub.status.busy": "2022-07-14T12:38:51.267966Z",
          "iopub.execute_input": "2022-07-14T12:38:51.26833Z",
          "iopub.status.idle": "2022-07-14T12:38:52.39486Z",
          "shell.execute_reply.started": "2022-07-14T12:38:51.2683Z",
          "shell.execute_reply": "2022-07-14T12:38:52.393692Z"
        },
        "trusted": true,
        "id": "1aSyqB43cAQq"
      },
      "execution_count": null,
      "outputs": []
    },
    {
      "cell_type": "markdown",
      "source": [
        "**3) How many Movies & TV Shows are in the dataset ? Show with Bar Graph.**"
      ],
      "metadata": {
        "id": "rX6X5qFtcAQq"
      }
    },
    {
      "cell_type": "code",
      "source": [
        "df.type.value_counts().plot(kind = 'bar')"
      ],
      "metadata": {
        "execution": {
          "iopub.status.busy": "2022-07-14T12:39:00.143389Z",
          "iopub.execute_input": "2022-07-14T12:39:00.144545Z",
          "iopub.status.idle": "2022-07-14T12:39:00.306572Z",
          "shell.execute_reply.started": "2022-07-14T12:39:00.144501Z",
          "shell.execute_reply": "2022-07-14T12:39:00.305659Z"
        },
        "trusted": true,
        "id": "78re2GYEcAQq"
      },
      "execution_count": null,
      "outputs": []
    },
    {
      "cell_type": "code",
      "source": [
        "df.groupby('type').type.count().plot(kind  ='bar')"
      ],
      "metadata": {
        "execution": {
          "iopub.status.busy": "2022-07-14T12:39:04.92975Z",
          "iopub.execute_input": "2022-07-14T12:39:04.930181Z",
          "iopub.status.idle": "2022-07-14T12:39:05.106261Z",
          "shell.execute_reply.started": "2022-07-14T12:39:04.930146Z",
          "shell.execute_reply": "2022-07-14T12:39:05.104947Z"
        },
        "trusted": true,
        "id": "Fr3Ynm8FcAQq"
      },
      "execution_count": null,
      "outputs": []
    },
    {
      "cell_type": "code",
      "source": [
        "sns.countplot(df['type'])"
      ],
      "metadata": {
        "execution": {
          "iopub.status.busy": "2022-07-14T12:39:09.297036Z",
          "iopub.execute_input": "2022-07-14T12:39:09.297451Z",
          "iopub.status.idle": "2022-07-14T12:39:09.469066Z",
          "shell.execute_reply.started": "2022-07-14T12:39:09.297417Z",
          "shell.execute_reply": "2022-07-14T12:39:09.468139Z"
        },
        "trusted": true,
        "id": "5ZrPvhlVcAQr"
      },
      "execution_count": null,
      "outputs": []
    },
    {
      "cell_type": "code",
      "source": [
        "df.columns"
      ],
      "metadata": {
        "execution": {
          "iopub.status.busy": "2022-07-14T12:39:14.067438Z",
          "iopub.execute_input": "2022-07-14T12:39:14.06786Z",
          "iopub.status.idle": "2022-07-14T12:39:14.074819Z",
          "shell.execute_reply.started": "2022-07-14T12:39:14.067823Z",
          "shell.execute_reply": "2022-07-14T12:39:14.073932Z"
        },
        "trusted": true,
        "id": "TUILTEwAcAQr"
      },
      "execution_count": null,
      "outputs": []
    },
    {
      "cell_type": "code",
      "source": [],
      "metadata": {
        "trusted": true,
        "id": "4YvTi-fscAQr"
      },
      "execution_count": null,
      "outputs": []
    },
    {
      "cell_type": "markdown",
      "source": [
        "**Q. 4) Show all the Movies that were released in year 2000**"
      ],
      "metadata": {
        "id": "ixNnF3oJcAQr"
      }
    },
    {
      "cell_type": "code",
      "source": [
        "df[(df.type == 'Movie') & (df.release_year == 2000)]['title']"
      ],
      "metadata": {
        "execution": {
          "iopub.status.busy": "2022-07-14T12:39:17.757263Z",
          "iopub.execute_input": "2022-07-14T12:39:17.757953Z",
          "iopub.status.idle": "2022-07-14T12:39:17.768744Z",
          "shell.execute_reply.started": "2022-07-14T12:39:17.757905Z",
          "shell.execute_reply": "2022-07-14T12:39:17.767839Z"
        },
        "trusted": true,
        "id": "R61nxrPscAQr"
      },
      "execution_count": null,
      "outputs": []
    },
    {
      "cell_type": "markdown",
      "source": [
        "**Q. 5) Show only the Titles of all TV Shows that were released in India only.**"
      ],
      "metadata": {
        "id": "zk0AvosYcAQr"
      }
    },
    {
      "cell_type": "code",
      "source": [
        "df[(df.country == 'India') & (df.type == 'TV Show')]['title']"
      ],
      "metadata": {
        "execution": {
          "iopub.status.busy": "2022-07-14T12:39:22.787223Z",
          "iopub.execute_input": "2022-07-14T12:39:22.787667Z",
          "iopub.status.idle": "2022-07-14T12:39:22.801808Z",
          "shell.execute_reply.started": "2022-07-14T12:39:22.787623Z",
          "shell.execute_reply": "2022-07-14T12:39:22.800493Z"
        },
        "trusted": true,
        "id": "Ey4skTM-cAQw"
      },
      "execution_count": null,
      "outputs": []
    },
    {
      "cell_type": "markdown",
      "source": [
        "**Q. 6) Show Top 10 Directors, who gave the highest number of TV Shows & Movies to Netflix ?**"
      ],
      "metadata": {
        "id": "veCggTCucAQw"
      }
    },
    {
      "cell_type": "code",
      "source": [
        "df['director'].value_counts().head(10)"
      ],
      "metadata": {
        "execution": {
          "iopub.status.busy": "2022-07-14T12:38:05.829813Z",
          "iopub.status.idle": "2022-07-14T12:38:05.830539Z",
          "shell.execute_reply.started": "2022-07-14T12:38:05.830313Z",
          "shell.execute_reply": "2022-07-14T12:38:05.830333Z"
        },
        "trusted": true,
        "id": "4odYR2SCcAQw"
      },
      "execution_count": null,
      "outputs": []
    },
    {
      "cell_type": "code",
      "source": [],
      "metadata": {
        "trusted": true,
        "id": "_WeZKoDvcAQw"
      },
      "execution_count": null,
      "outputs": []
    },
    {
      "cell_type": "markdown",
      "source": [
        "**Q. 7) Show all the Records, where \"Category is Movie and Type is Comedies\" or \"Country is United Kingdom\".**"
      ],
      "metadata": {
        "id": "Zl590OE7cAQw"
      }
    },
    {
      "cell_type": "code",
      "source": [
        "df[(df.type =='Movie') &(df.listed_in =='Comedies')|(df.country == 'United Kingdom')]"
      ],
      "metadata": {
        "execution": {
          "iopub.status.busy": "2022-07-14T12:39:27.607069Z",
          "iopub.execute_input": "2022-07-14T12:39:27.607522Z",
          "iopub.status.idle": "2022-07-14T12:39:27.638754Z",
          "shell.execute_reply.started": "2022-07-14T12:39:27.607486Z",
          "shell.execute_reply": "2022-07-14T12:39:27.637642Z"
        },
        "trusted": true,
        "id": "m3Qk_TyocAQw"
      },
      "execution_count": null,
      "outputs": []
    },
    {
      "cell_type": "code",
      "source": [
        "df.cast"
      ],
      "metadata": {
        "execution": {
          "iopub.status.busy": "2022-07-14T12:39:35.027215Z",
          "iopub.execute_input": "2022-07-14T12:39:35.027628Z",
          "iopub.status.idle": "2022-07-14T12:39:35.036791Z",
          "shell.execute_reply.started": "2022-07-14T12:39:35.027575Z",
          "shell.execute_reply": "2022-07-14T12:39:35.035173Z"
        },
        "trusted": true,
        "id": "t-muhjPWcAQw"
      },
      "execution_count": null,
      "outputs": []
    },
    {
      "cell_type": "markdown",
      "source": [
        "**Q. 8) In how many movies/shows, Tom Cruise was cast ?**"
      ],
      "metadata": {
        "id": "aL8MK3VfcAQx"
      }
    },
    {
      "cell_type": "code",
      "source": [
        "#str .contains does not work on empty nan values we need to remove nan values\n",
        "\n",
        "df_new = df.dropna()\n",
        "df_new[df_new.cast.str.contains('Tom Cruise')]\n"
      ],
      "metadata": {
        "execution": {
          "iopub.status.busy": "2022-07-14T12:44:28.744122Z",
          "iopub.execute_input": "2022-07-14T12:44:28.745164Z",
          "iopub.status.idle": "2022-07-14T12:44:28.773958Z",
          "shell.execute_reply.started": "2022-07-14T12:44:28.745119Z",
          "shell.execute_reply": "2022-07-14T12:44:28.772709Z"
        },
        "trusted": true,
        "id": "ED5c5XrIcAQx"
      },
      "execution_count": null,
      "outputs": []
    },
    {
      "cell_type": "code",
      "source": [
        "df_new[df_new.cast.str.contains('Tom Cruise')]['title'].value_counts().sum()"
      ],
      "metadata": {
        "execution": {
          "iopub.status.busy": "2022-07-14T12:44:34.094243Z",
          "iopub.execute_input": "2022-07-14T12:44:34.094647Z",
          "iopub.status.idle": "2022-07-14T12:44:34.107406Z",
          "shell.execute_reply.started": "2022-07-14T12:44:34.094588Z",
          "shell.execute_reply": "2022-07-14T12:44:34.10619Z"
        },
        "trusted": true,
        "id": "MhyqqJbecAQx"
      },
      "execution_count": null,
      "outputs": []
    },
    {
      "cell_type": "markdown",
      "source": [
        "**Q. 9) What are the different Ratings defined by Netflix ?**"
      ],
      "metadata": {
        "id": "NvxeVEu0cAQx"
      }
    },
    {
      "cell_type": "code",
      "source": [
        "df.rating.values"
      ],
      "metadata": {
        "execution": {
          "iopub.status.busy": "2022-07-14T12:48:08.618219Z",
          "iopub.execute_input": "2022-07-14T12:48:08.618651Z",
          "iopub.status.idle": "2022-07-14T12:48:08.627802Z",
          "shell.execute_reply.started": "2022-07-14T12:48:08.618616Z",
          "shell.execute_reply": "2022-07-14T12:48:08.626299Z"
        },
        "trusted": true,
        "id": "H8J4CDJpcAQx"
      },
      "execution_count": null,
      "outputs": []
    },
    {
      "cell_type": "code",
      "source": [
        "df.rating.unique()"
      ],
      "metadata": {
        "execution": {
          "iopub.status.busy": "2022-07-14T12:48:55.604385Z",
          "iopub.execute_input": "2022-07-14T12:48:55.604877Z",
          "iopub.status.idle": "2022-07-14T12:48:55.614491Z",
          "shell.execute_reply.started": "2022-07-14T12:48:55.604819Z",
          "shell.execute_reply": "2022-07-14T12:48:55.613579Z"
        },
        "trusted": true,
        "id": "iw2vTJKMcAQx"
      },
      "execution_count": null,
      "outputs": []
    },
    {
      "cell_type": "code",
      "source": [
        "df.rating.nunique()"
      ],
      "metadata": {
        "execution": {
          "iopub.status.busy": "2022-07-14T12:48:23.95464Z",
          "iopub.execute_input": "2022-07-14T12:48:23.955154Z",
          "iopub.status.idle": "2022-07-14T12:48:23.9648Z",
          "shell.execute_reply.started": "2022-07-14T12:48:23.955105Z",
          "shell.execute_reply": "2022-07-14T12:48:23.96355Z"
        },
        "trusted": true,
        "id": "D0f4n98_cAQx"
      },
      "execution_count": null,
      "outputs": []
    },
    {
      "cell_type": "markdown",
      "source": [
        "**.1) How many Movies got the 'TV-14' rating, in Canada ?**"
      ],
      "metadata": {
        "id": "McwJZoTacAQx"
      }
    },
    {
      "cell_type": "code",
      "source": [
        "df[(df.type == 'Movie')& (df.rating == 'TV-14')&(df.country == 'Canada')].shape[0]"
      ],
      "metadata": {
        "execution": {
          "iopub.status.busy": "2022-07-14T12:53:05.37313Z",
          "iopub.execute_input": "2022-07-14T12:53:05.373684Z",
          "iopub.status.idle": "2022-07-14T12:53:05.388572Z",
          "shell.execute_reply.started": "2022-07-14T12:53:05.373636Z",
          "shell.execute_reply": "2022-07-14T12:53:05.387536Z"
        },
        "trusted": true,
        "id": "NrQRawEocAQy"
      },
      "execution_count": null,
      "outputs": []
    },
    {
      "cell_type": "markdown",
      "source": [
        "**. 9.2) How many TV Shows got the 'TV-MA' rating, after year 2018 ?**"
      ],
      "metadata": {
        "id": "7l1bILXtcAQy"
      }
    },
    {
      "cell_type": "code",
      "source": [
        "df[(df.type == 'TV Show') & (df.rating == 'TV-MA') &(df.release_year >2018)].shape[0]"
      ],
      "metadata": {
        "execution": {
          "iopub.status.busy": "2022-07-14T12:59:28.515321Z",
          "iopub.execute_input": "2022-07-14T12:59:28.51584Z",
          "iopub.status.idle": "2022-07-14T12:59:28.527807Z",
          "shell.execute_reply.started": "2022-07-14T12:59:28.515796Z",
          "shell.execute_reply": "2022-07-14T12:59:28.526693Z"
        },
        "trusted": true,
        "id": "PIxREcRkcAQy"
      },
      "execution_count": null,
      "outputs": []
    },
    {
      "cell_type": "markdown",
      "source": [
        "**10) What is the maximum duration of a Movie/Show on Netflix ?**"
      ],
      "metadata": {
        "id": "kRUxiVBLcAQy"
      }
    },
    {
      "cell_type": "code",
      "source": [
        "df.duration.unique()"
      ],
      "metadata": {
        "execution": {
          "iopub.status.busy": "2022-07-14T13:02:16.056235Z",
          "iopub.execute_input": "2022-07-14T13:02:16.05685Z",
          "iopub.status.idle": "2022-07-14T13:02:16.070065Z",
          "shell.execute_reply.started": "2022-07-14T13:02:16.056797Z",
          "shell.execute_reply": "2022-07-14T13:02:16.06843Z"
        },
        "trusted": true,
        "id": "XNGOCkxdcAQy"
      },
      "execution_count": null,
      "outputs": []
    },
    {
      "cell_type": "code",
      "source": [
        "df.duration.dtypes"
      ],
      "metadata": {
        "execution": {
          "iopub.status.busy": "2022-07-14T13:02:43.674282Z",
          "iopub.execute_input": "2022-07-14T13:02:43.674668Z",
          "iopub.status.idle": "2022-07-14T13:02:43.681011Z",
          "shell.execute_reply.started": "2022-07-14T13:02:43.674637Z",
          "shell.execute_reply": "2022-07-14T13:02:43.680189Z"
        },
        "trusted": true,
        "id": "F5bJ3OAscAQy"
      },
      "execution_count": null,
      "outputs": []
    },
    {
      "cell_type": "code",
      "source": [
        "df[['minutes' , 'unit']] = df.duration.str.split(' ' ,expand = True)"
      ],
      "metadata": {
        "execution": {
          "iopub.status.busy": "2022-07-14T13:04:05.524496Z",
          "iopub.execute_input": "2022-07-14T13:04:05.524949Z",
          "iopub.status.idle": "2022-07-14T13:04:05.549185Z",
          "shell.execute_reply.started": "2022-07-14T13:04:05.524902Z",
          "shell.execute_reply": "2022-07-14T13:04:05.548297Z"
        },
        "trusted": true,
        "id": "Lpt-AeeRcAQy"
      },
      "execution_count": null,
      "outputs": []
    },
    {
      "cell_type": "code",
      "source": [
        "df.head()"
      ],
      "metadata": {
        "execution": {
          "iopub.status.busy": "2022-07-14T13:04:11.575787Z",
          "iopub.execute_input": "2022-07-14T13:04:11.576141Z",
          "iopub.status.idle": "2022-07-14T13:04:11.595991Z",
          "shell.execute_reply.started": "2022-07-14T13:04:11.576113Z",
          "shell.execute_reply": "2022-07-14T13:04:11.594979Z"
        },
        "trusted": true,
        "id": "Ll4QnCS6cAQz"
      },
      "execution_count": null,
      "outputs": []
    },
    {
      "cell_type": "code",
      "source": [
        "df['minutes'] = pd.to_numeric(df['minutes'])"
      ],
      "metadata": {
        "execution": {
          "iopub.status.busy": "2022-07-14T13:09:59.275868Z",
          "iopub.execute_input": "2022-07-14T13:09:59.276261Z",
          "iopub.status.idle": "2022-07-14T13:09:59.288195Z",
          "shell.execute_reply.started": "2022-07-14T13:09:59.27623Z",
          "shell.execute_reply": "2022-07-14T13:09:59.286901Z"
        },
        "trusted": true,
        "id": "dIWmQbSVcAQz"
      },
      "execution_count": null,
      "outputs": []
    },
    {
      "cell_type": "code",
      "source": [
        "df['minutes'].max()"
      ],
      "metadata": {
        "execution": {
          "iopub.status.busy": "2022-07-14T13:10:14.674822Z",
          "iopub.execute_input": "2022-07-14T13:10:14.675869Z",
          "iopub.status.idle": "2022-07-14T13:10:14.684173Z",
          "shell.execute_reply.started": "2022-07-14T13:10:14.67582Z",
          "shell.execute_reply": "2022-07-14T13:10:14.68285Z"
        },
        "trusted": true,
        "id": "Am1DZHWrcAQz"
      },
      "execution_count": null,
      "outputs": []
    },
    {
      "cell_type": "markdown",
      "source": [
        "**11) Which individual country has the Highest No. of TV Shows ?**"
      ],
      "metadata": {
        "id": "fuNfeSeXcAQz"
      }
    },
    {
      "cell_type": "code",
      "source": [
        "df[df.type == 'TV Show']['country'].value_counts().head(1)"
      ],
      "metadata": {
        "execution": {
          "iopub.status.busy": "2022-07-14T13:13:33.509335Z",
          "iopub.execute_input": "2022-07-14T13:13:33.50984Z",
          "iopub.status.idle": "2022-07-14T13:13:33.52255Z",
          "shell.execute_reply.started": "2022-07-14T13:13:33.5098Z",
          "shell.execute_reply": "2022-07-14T13:13:33.521693Z"
        },
        "trusted": true,
        "id": "Bj8SplVdcAQz"
      },
      "execution_count": null,
      "outputs": []
    },
    {
      "cell_type": "markdown",
      "source": [
        "**Q. 12) How can we sort the dataset by Year ?**"
      ],
      "metadata": {
        "id": "N7Oray3icAQz"
      }
    },
    {
      "cell_type": "code",
      "source": [
        "df.sort_values(by = 'release_year')"
      ],
      "metadata": {
        "execution": {
          "iopub.status.busy": "2022-07-14T13:14:37.212022Z",
          "iopub.execute_input": "2022-07-14T13:14:37.212397Z",
          "iopub.status.idle": "2022-07-14T13:14:37.242307Z",
          "shell.execute_reply.started": "2022-07-14T13:14:37.212366Z",
          "shell.execute_reply": "2022-07-14T13:14:37.241055Z"
        },
        "trusted": true,
        "id": "mx-0HTAOcAQz"
      },
      "execution_count": null,
      "outputs": []
    },
    {
      "cell_type": "code",
      "source": [
        "df.sort_values(by = 'release_year',ascending=False)"
      ],
      "metadata": {
        "execution": {
          "iopub.status.busy": "2022-07-14T13:16:44.635201Z",
          "iopub.execute_input": "2022-07-14T13:16:44.635576Z",
          "iopub.status.idle": "2022-07-14T13:16:44.667535Z",
          "shell.execute_reply.started": "2022-07-14T13:16:44.635544Z",
          "shell.execute_reply": "2022-07-14T13:16:44.666459Z"
        },
        "trusted": true,
        "id": "RpW73PtUcAQz"
      },
      "execution_count": null,
      "outputs": []
    },
    {
      "cell_type": "markdown",
      "source": [
        "**13) Find all the instances where: Category is 'Movie' and Type is 'Dramas' or Category is 'TV Show' & Type is 'Kids' TV'**"
      ],
      "metadata": {
        "id": "3mEZU2r-cAQ0"
      }
    },
    {
      "cell_type": "code",
      "source": [
        "df[((df.type == 'Movie')&(df.listed_in =='Dramas'))|((df.type == 'TV Show')&(df.listed_in =='Kids'))]"
      ],
      "metadata": {
        "execution": {
          "iopub.status.busy": "2022-07-14T13:18:43.865019Z",
          "iopub.execute_input": "2022-07-14T13:18:43.865435Z",
          "iopub.status.idle": "2022-07-14T13:18:43.896167Z",
          "shell.execute_reply.started": "2022-07-14T13:18:43.865399Z",
          "shell.execute_reply": "2022-07-14T13:18:43.894772Z"
        },
        "trusted": true,
        "id": "FyjAqlOdcAQ0"
      },
      "execution_count": null,
      "outputs": []
    },
    {
      "cell_type": "code",
      "source": [],
      "metadata": {
        "id": "-7iGf7ttcAQ0"
      },
      "execution_count": null,
      "outputs": []
    }
  ]
}